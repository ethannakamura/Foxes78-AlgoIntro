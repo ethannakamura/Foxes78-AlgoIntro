{
 "cells": [
  {
   "cell_type": "markdown",
   "metadata": {},
   "source": [
    "# Algorithms, Binary Search"
   ]
  },
  {
   "cell_type": "markdown",
   "metadata": {},
   "source": [
    "## Tasks Today:\n",
    " \n",
    "1) <b>In-Place Algorithms</b> <br>\n",
    " &nbsp;&nbsp;&nbsp;&nbsp; a) Syntax <br>\n",
    " &nbsp;&nbsp;&nbsp;&nbsp; a) Out of Place Algorithm <br>\n",
    " &nbsp;&nbsp;&nbsp;&nbsp; b) In-Class Exercise #1 <br>\n",
    "2) <b>Two Pointers</b> <br>\n",
    "3) <b>Merge Sort</b> <br>\n",
    " &nbsp;&nbsp;&nbsp;&nbsp; a) Video on Algorithms <br>\n",
    " &nbsp;&nbsp;&nbsp;&nbsp; b) How it Works <br>\n",
    "4) <b>Exercises</b> <br>\n",
    " &nbsp;&nbsp;&nbsp;&nbsp; a) Exercise #1 - Reverse a List in Place Using an In-Place Algorithm <br>\n",
    " &nbsp;&nbsp;&nbsp;&nbsp; b) Exercise #2 - Find Distinct Words <br>\n",
    " &nbsp;&nbsp;&nbsp;&nbsp; c) Exercise #3 - Write a program to implement a Linear Search Algorithm. <br>"
   ]
  },
  {
   "cell_type": "markdown",
   "metadata": {},
   "source": [
    "## In-Place Algorithms"
   ]
  },
  {
   "cell_type": "markdown",
   "metadata": {},
   "source": [
    "#### Syntax"
   ]
  },
  {
   "cell_type": "code",
   "execution_count": 2,
   "metadata": {},
   "outputs": [
    {
     "name": "stdout",
     "output_type": "stream",
     "text": [
      "None\n",
      "['Racoon', 'Fox', 'Otter']\n"
     ]
    }
   ],
   "source": [
    "# an in-place algorithm is a process/function/algorithm that directly changes the original data in a collection/data structure\n",
    "# modifying the original data without making copies of it in memory\n",
    "# .sort() is our in-place (modifies the original list) sorting function\n",
    "# swapping the positions of items in a list\n",
    "\n",
    "# sometimes simply known as a swap algorithm\n",
    "def swap(alist, x, y, z):\n",
    "    alist[x], alist[y], alist[z] = alist[z], alist[x], alist[y]\n",
    "\n",
    "mylist = ['Fox', 'Otter', 'Racoon']\n",
    "\n",
    "print(swap(mylist, 0, 1, 2))\n",
    "print(mylist)"
   ]
  },
  {
   "cell_type": "markdown",
   "metadata": {},
   "source": [
    "#### Out of Place Algorithm"
   ]
  },
  {
   "cell_type": "code",
   "execution_count": 10,
   "metadata": {},
   "outputs": [
    {
     "name": "stdout",
     "output_type": "stream",
     "text": [
      "['Kangaroo', 'Echidna', 'Wallaby', 'Possum']\n",
      "['Possum', 'Wallaby', 'Echidna', 'Kangaroo']\n"
     ]
    }
   ],
   "source": [
    "# sorted() is our out of place sorting algorithm (creates a copy of the list, sorts that copy) - returns the sorted copy\n",
    "\n",
    "# reversing a list with slicing is a classic out of place process\n",
    "marsupials = ['Kangaroo', 'Echidna', 'Wallaby', 'Possum']\n",
    "marsupialscopy = marsupials[::-1]\n",
    "print(marsupials)\n",
    "print(marsupialscopy)"
   ]
  },
  {
   "cell_type": "code",
   "execution_count": 7,
   "metadata": {},
   "outputs": [
    {
     "name": "stdout",
     "output_type": "stream",
     "text": [
      "['Echidna', 'Kangaroo', 'Possum', 'Wallaby']\n",
      "['Kangaroo', 'Echidna', 'Wallaby', 'Possum']\n",
      "None\n",
      "['Amberjack', 'Clownfish', 'Lionfish', 'Tuna']\n"
     ]
    }
   ],
   "source": [
    "# sorted() out of place, returns sorted copy\n",
    "# .sort() in-place, sorts original\n",
    "\n",
    "marsupials = ['Kangaroo', 'Echidna', 'Wallaby', 'Possum']\n",
    "rv = sorted(marsupials)\n",
    "print(rv)\n",
    "print(marsupials)\n",
    "\n",
    "fish = ['Tuna', 'Amberjack', 'Lionfish', 'Clownfish']\n",
    "dotrv = fish.sort()\n",
    "print(dotrv)\n",
    "print(fish)"
   ]
  },
  {
   "cell_type": "code",
   "execution_count": 9,
   "metadata": {},
   "outputs": [
    {
     "name": "stdout",
     "output_type": "stream",
     "text": [
      "['Echidna', 'Kangaroo', 'Possum', 'Wallaby']\n"
     ]
    }
   ],
   "source": [
    "marsupials = ['Kangaroo', 'Echidna', 'Wallaby', 'Possum']\n",
    "marsupials.sort()\n",
    "print(marsupials)"
   ]
  },
  {
   "cell_type": "markdown",
   "metadata": {},
   "source": [
    "Create a function that, given a list as a parameter, finds the even numbers inside the list. The function should then return a list.\n",
    "Example:\n",
    "Input: [2, 7, 10, 11, 12]\n",
    "Output: [2, 10, 12]"
   ]
  },
  {
   "cell_type": "code",
   "execution_count": 15,
   "metadata": {
    "scrolled": true
   },
   "outputs": [
    {
     "name": "stdout",
     "output_type": "stream",
     "text": [
      "In-place:\n",
      "my_list before: [2, 7, 10, 11, 12]\n",
      "returned value: None\n",
      "my_list after: [2, 10, 12]\n",
      "\n",
      "Out of place:\n",
      "og_list before: [2, 7, 10, 11, 12]\n",
      "returned value: [2, 10, 12]\n",
      "og_list after: [2, 7, 10, 11, 12]\n"
     ]
    }
   ],
   "source": [
    "# in-place would mean removing the odd numbers from the original list\n",
    "print('In-place:')\n",
    "def evensIP(lst):\n",
    "    i = 0\n",
    "    while i<len(lst):\n",
    "        if lst[i]%2==0:\n",
    "            i+=1\n",
    "        else:\n",
    "            lst.pop(i)\n",
    "\n",
    "my_list = [2,7,10,11,12]\n",
    "print(f'my_list before: {my_list}')\n",
    "ret = evensIP(my_list)\n",
    "print(f'returned value: {ret}')\n",
    "print(f'my_list after: {my_list}')\n",
    "\n",
    "print('\\nOut of place:')\n",
    "# out of place would mean creating a new list only containing the even numbers\n",
    "def evensOP(lst):\n",
    "    return [x for x in lst if x%2==0]\n",
    "    \n",
    "og_list = [2,7,10,11,12]\n",
    "print(f'og_list before: {og_list}')\n",
    "rv = evensOP(my_list)\n",
    "print(f'returned value: {rv}')\n",
    "print(f'og_list after: {og_list}')"
   ]
  },
  {
   "cell_type": "markdown",
   "metadata": {},
   "source": [
    "#### In-Class Exercise #1 <br>\n",
    "<p>Write a function that takes in four arguments (list, index1, index2, index3), and swaps those three positions in the list passed in.</p>"
   ]
  },
  {
   "cell_type": "code",
   "execution_count": null,
   "metadata": {},
   "outputs": [],
   "source": [
    "l_1 = [10, 4, 3, 8, 4, 2, 6]\n",
    "\n"
   ]
  },
  {
   "cell_type": "markdown",
   "metadata": {},
   "source": [
    "## Two Pointers"
   ]
  },
  {
   "cell_type": "markdown",
   "metadata": {},
   "source": [
    "#### Syntax"
   ]
  },
  {
   "cell_type": "code",
   "execution_count": null,
   "metadata": {},
   "outputs": [],
   "source": []
  },
  {
   "cell_type": "markdown",
   "metadata": {},
   "source": [
    "#### Video of Algorithms <br>\n",
    "<p>Watch the video about algorithms.</p>\n",
    "\n",
    "https://www.youtube.com/watch?v=Q9HjeFD62Uk\n",
    "\n",
    "https://www.youtube.com/watch?v=kPRA0W1kECg\n",
    "\n",
    "https://www.youtube.com/watch?v=ZZuD6iUe3Pc"
   ]
  },
  {
   "cell_type": "markdown",
   "metadata": {},
   "source": [
    "# Sorting Algorithms"
   ]
  },
  {
   "cell_type": "markdown",
   "metadata": {},
   "source": [
    "#### Bubble Sort\n",
    "\n",
    "Worst Case: O(n^2) Time - O(1) Space"
   ]
  },
  {
   "cell_type": "code",
   "execution_count": null,
   "metadata": {},
   "outputs": [],
   "source": []
  },
  {
   "cell_type": "markdown",
   "metadata": {},
   "source": [
    "##### Insertion Sort\n",
    "\n",
    "Worst Case: O(n^2) time - O(1)space"
   ]
  },
  {
   "cell_type": "code",
   "execution_count": null,
   "metadata": {},
   "outputs": [],
   "source": []
  },
  {
   "cell_type": "markdown",
   "metadata": {},
   "source": [
    "## Merge Sort"
   ]
  },
  {
   "cell_type": "markdown",
   "metadata": {},
   "source": [
    "#### How it Works"
   ]
  },
  {
   "cell_type": "code",
   "execution_count": null,
   "metadata": {},
   "outputs": [],
   "source": []
  },
  {
   "cell_type": "markdown",
   "metadata": {},
   "source": [
    "# Binary Search\n",
    "\n",
    "The Binary Search algorithm works by finding the number in the middle of a given array and comparing it to the target. Given that the array is sorted\n",
    "\n",
    "* The worst case run time for this algorithm is `O(log(n))`"
   ]
  },
  {
   "cell_type": "code",
   "execution_count": null,
   "metadata": {},
   "outputs": [],
   "source": []
  },
  {
   "cell_type": "markdown",
   "metadata": {},
   "source": [
    "# Exercises"
   ]
  },
  {
   "cell_type": "markdown",
   "metadata": {},
   "source": [
    "### Exercise #1 <br>\n",
    "<p>Reverse the list below in-place using an in-place algorithm.<br>For extra credit: Reverse the strings at the same time.</p>"
   ]
  },
  {
   "cell_type": "code",
   "execution_count": null,
   "metadata": {},
   "outputs": [],
   "source": [
    "words = ['this' , 'is', 'a', 'sentence', '.']\n"
   ]
  },
  {
   "cell_type": "markdown",
   "metadata": {},
   "source": [
    "### Exercise #2 <br>\n",
    "<p>Create a function that counts how many distinct words are in the string below, then outputs a dictionary with the words as the key and the value as the amount of times that word appears in the string.<br>Should output:<br>{'a': 5,<br>\n",
    " 'abstract': 1,<br>\n",
    " 'an': 3,<br>\n",
    " 'array': 2, ... etc...</p>"
   ]
  },
  {
   "cell_type": "code",
   "execution_count": null,
   "metadata": {},
   "outputs": [],
   "source": [
    "a_text = 'In computing, a hash table hash map is a data structure which implements an associative array abstract data type, a structure that can map keys to values. A hash table uses a hash function to compute an index into an array of buckets or slots from which the desired value can be found'\n",
    "\n"
   ]
  },
  {
   "cell_type": "markdown",
   "metadata": {},
   "source": [
    "## Exercise #3\n",
    "\n",
    "Write a program to implement a Linear Search Algorithm. Also in a comment, write the Time Complexity of the following algorithm.\n",
    "\n",
    "#### Hint: Linear Searching will require searching a list for a given number. "
   ]
  },
  {
   "cell_type": "code",
   "execution_count": null,
   "metadata": {},
   "outputs": [],
   "source": []
  }
 ],
 "metadata": {
  "kernelspec": {
   "display_name": "Python 3",
   "language": "python",
   "name": "python3"
  },
  "language_info": {
   "codemirror_mode": {
    "name": "ipython",
    "version": 3
   },
   "file_extension": ".py",
   "mimetype": "text/x-python",
   "name": "python",
   "nbconvert_exporter": "python",
   "pygments_lexer": "ipython3",
   "version": "3.8.8"
  }
 },
 "nbformat": 4,
 "nbformat_minor": 2
}
